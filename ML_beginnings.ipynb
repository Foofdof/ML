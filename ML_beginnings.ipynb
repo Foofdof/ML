{
  "nbformat": 4,
  "nbformat_minor": 0,
  "metadata": {
    "colab": {
      "provenance": [],
      "authorship_tag": "ABX9TyOh8J8r1oTc13+Truyc0CLi",
      "include_colab_link": true
    },
    "kernelspec": {
      "name": "python3",
      "display_name": "Python 3"
    },
    "language_info": {
      "name": "python"
    }
  },
  "cells": [
    {
      "cell_type": "markdown",
      "metadata": {
        "id": "view-in-github",
        "colab_type": "text"
      },
      "source": [
        "<a href=\"https://colab.research.google.com/github/Foofdof/ML/blob/main/ML_beginnings.ipynb\" target=\"_parent\"><img src=\"https://colab.research.google.com/assets/colab-badge.svg\" alt=\"Open In Colab\"/></a>"
      ]
    },
    {
      "cell_type": "code",
      "execution_count": null,
      "metadata": {
        "colab": {
          "base_uri": "https://localhost:8080/",
          "height": 207
        },
        "id": "6Qe8_9yfunk9",
        "outputId": "be7726af-b0ec-4899-c0f7-f42e9f1d3e23"
      },
      "outputs": [
        {
          "output_type": "stream",
          "name": "stdout",
          "text": [
            "Downloading data from https://storage.googleapis.com/tensorflow/tf-keras-datasets/mnist.npz\n",
            "11490434/11490434 [==============================] - 0s 0us/step\n"
          ]
        },
        {
          "output_type": "display_data",
          "data": {
            "text/plain": [
              "<Figure size 640x480 with 1 Axes>"
            ],
            "image/png": "[encoded data removed]"
          },
          "metadata": {}
        }
      ],
      "source": [
        "import numpy as np, sys\n",
        "from keras.datasets import mnist\n",
        "from matplotlib import pyplot\n",
        "import tensorflow as tf\n",
        "\n",
        "np.random.seed(1)\n",
        "(x_train, y_train), (x_test, y_test) = mnist.load_data()\n",
        "\n",
        "pyplot.subplot(330+1)\n",
        "pyplot.imshow(x_train[1], cmap=pyplot.get_cmap('gray'))\n",
        "pyplot.show()\n",
        "\n",
        "images, labels = (x_train[0:1000].reshape(1000, 28*28)/255, y_train[0:1000])\n",
        "one_hot_labels = np.zeros((len(labels),10))\n",
        "\n",
        "for i,l in enumerate(labels):\n",
        "  one_hot_labels[i,l] = 1\n",
        "labels = one_hot_labels\n",
        "\n",
        "test_img = x_test.reshape(len(x_test), 28*28) / 255\n",
        "test_labels = np.zeros((len(y_test), 10))\n",
        "for i,l in enumerate(y_test):\n",
        "  test_labels[i,l] = 1\n",
        "\n",
        "\n",
        "alpha, itr, hid_size = (0.005, 300, 40)\n",
        "px_per_img, n_lab = (784, 10)\n",
        "\n",
        "weights_01 = 0.2*np.random.random((px_per_img, hid_size)) - 0.1\n",
        "weights_12 = 0.2*np.random.random((hid_size, n_lab)) - 0.1\n",
        "\n",
        "def relu(x):\n",
        "  return (x >= 0)*x\n",
        "\n",
        "def relu2deriv(output):\n",
        "  return output >= 0"
      ]
    },
    {
      "cell_type": "code",
      "source": [
        "for j in range(itr):\n",
        "  error, correct_cnt = (0.0, 0)\n",
        "\n",
        "  for i in range(len(images)):\n",
        "    layer_0 = images[i:i+1]\n",
        "    layer_1 = relu(np.dot(layer_0, weights_01))\n",
        "    dropout_mask = np.random.randint(2, size=layer_1.shape)\n",
        "    layer_1 *= dropout_mask * 2\n",
        "    layer_2 = np.dot(layer_1, weights_12)\n",
        "\n",
        "    error += np.sum((labels[i:i+1] - layer_2)**2)\n",
        "    correct_cnt +=  int(np.argmax(layer_2) == np.argmax(labels[i:i+1]))\n",
        "\n",
        "    layer_2_delta = (labels[i:i+1] - layer_2)\n",
        "    layer_1_delta = layer_2_delta.dot(weights_12.T) * relu2deriv(layer_1)\n",
        "    layer_1_delta *= dropout_mask\n",
        "    weights_12 += alpha*layer_1.T.dot(layer_2_delta)\n",
        "    weights_01 += alpha*layer_0.T.dot(layer_1_delta)\n",
        "\n",
        "  if(j%10 == 0):\n",
        "    test_error = 0.0\n",
        "    test_correct_cnt = 0\n",
        "\n",
        "    for i in range(len(test_img)):\n",
        "      layer_0 = test_img[i:i+1]\n",
        "      layer_1 = relu(np.dot(layer_0, weights_01))\n",
        "      layer_2 = np.dot(layer_1, weights_12)\n",
        "\n",
        "      test_error += np.sum((test_labels[i:i+1] - layer_2)**2)\n",
        "      test_correct_cnt +=  int(np.argmax(layer_2) == np.argmax(test_labels[i:i+1]))\n",
        "\n",
        "    sys.stdout.write(\"\\n\" + \\\n",
        "    \"I:\" + str(j) + \\\n",
        "    \" Test-Err:\" + str(test_error/ float(len(test_img)))[0:5] +\\\n",
        "    \" Test-Acc:\" + str(test_correct_cnt/ float(len(test_img)))+\\\n",
        "    \" Train-Err:\" + str(error/ float(len(images)))[0:5] +\\\n",
        "    \" Train-Acc:\" + str(correct_cnt/ float(len(images))))"
      ],
      "metadata": {
        "id": "YTOQdCvoe2nJ"
      },
      "execution_count": null,
      "outputs": []
    },
    {
      "cell_type": "code",
      "source": [],
      "metadata": {
        "id": "R3WeQV8PoMq6"
      },
      "execution_count": null,
      "outputs": []
    },
    {
      "cell_type": "code",
      "source": [
        "from tensorflow import keras\n",
        "fashion_mnist = keras.datasets.fashion_mnist\n",
        "(train_images, train_labels), (test_images, test_labels) = fashion_mnist.load_data()\n",
        "\n",
        "print(train_images.shape)"
      ],
      "metadata": {
        "id": "_SseuO8BFqim",
        "colab": {
          "base_uri": "https://localhost:8080/"
        },
        "outputId": "1077e438-c283-45eb-b1c2-cd9ee4ac4849"
      },
      "execution_count": null,
      "outputs": [
        {
          "output_type": "stream",
          "name": "stdout",
          "text": [
            "Downloading data from https://storage.googleapis.com/tensorflow/tf-keras-datasets/train-labels-idx1-ubyte.gz\n",
            "29515/29515 [==============================] - 0s 0us/step\n",
            "Downloading data from https://storage.googleapis.com/tensorflow/tf-keras-datasets/train-images-idx3-ubyte.gz\n",
            "26421880/26421880 [==============================] - 1s 0us/step\n",
            "Downloading data from https://storage.googleapis.com/tensorflow/tf-keras-datasets/t10k-labels-idx1-ubyte.gz\n",
            "5148/5148 [==============================] - 0s 0us/step\n",
            "Downloading data from https://storage.googleapis.com/tensorflow/tf-keras-datasets/t10k-images-idx3-ubyte.gz\n",
            "4422102/4422102 [==============================] - 0s 0us/step\n",
            "(60000, 28, 28)\n"
          ]
        }
      ]
    },
    {
      "cell_type": "code",
      "source": [
        "print(train_images)"
      ],
      "metadata": {
        "colab": {
          "base_uri": "https://localhost:8080/"
        },
        "id": "1J3hCmyO_dJN",
        "outputId": "b75472b7-ff63-4a34-c585-45e98e482a08"
      },
      "execution_count": null,
      "outputs": [
        {
          "output_type": "stream",
          "name": "stdout",
          "text": [
            "[[[0 0 0 ... 0 0 0]\n",
            "  [0 0 0 ... 0 0 0]\n",
            "  [0 0 0 ... 0 0 0]\n",
            "  ...\n",
            "  [0 0 0 ... 0 0 0]\n",
            "  [0 0 0 ... 0 0 0]\n",
            "  [0 0 0 ... 0 0 0]]\n",
            "\n",
            " [[0 0 0 ... 0 0 0]\n",
            "  [0 0 0 ... 0 0 0]\n",
            "  [0 0 0 ... 0 0 0]\n",
            "  ...\n",
            "  [0 0 0 ... 0 0 0]\n",
            "  [0 0 0 ... 0 0 0]\n",
            "  [0 0 0 ... 0 0 0]]\n",
            "\n",
            " [[0 0 0 ... 0 0 0]\n",
            "  [0 0 0 ... 0 0 0]\n",
            "  [0 0 0 ... 0 0 0]\n",
            "  ...\n",
            "  [0 0 0 ... 0 0 0]\n",
            "  [0 0 0 ... 0 0 0]\n",
            "  [0 0 0 ... 0 0 0]]\n",
            "\n",
            " ...\n",
            "\n",
            " [[0 0 0 ... 0 0 0]\n",
            "  [0 0 0 ... 0 0 0]\n",
            "  [0 0 0 ... 0 0 0]\n",
            "  ...\n",
            "  [0 0 0 ... 0 0 0]\n",
            "  [0 0 0 ... 0 0 0]\n",
            "  [0 0 0 ... 0 0 0]]\n",
            "\n",
            " [[0 0 0 ... 0 0 0]\n",
            "  [0 0 0 ... 0 0 0]\n",
            "  [0 0 0 ... 0 0 0]\n",
            "  ...\n",
            "  [0 0 0 ... 0 0 0]\n",
            "  [0 0 0 ... 0 0 0]\n",
            "  [0 0 0 ... 0 0 0]]\n",
            "\n",
            " [[0 0 0 ... 0 0 0]\n",
            "  [0 0 0 ... 0 0 0]\n",
            "  [0 0 0 ... 0 0 0]\n",
            "  ...\n",
            "  [0 0 0 ... 0 0 0]\n",
            "  [0 0 0 ... 0 0 0]\n",
            "  [0 0 0 ... 0 0 0]]]\n"
          ]
        }
      ]
    },
    {
      "cell_type": "code",
      "source": [
        "#pyplot.imshow(train_images[0])\n",
        "\n",
        "train_images = train_images/255.0\n",
        "test_images = test_images/255.0\n",
        "\n",
        "model = keras.Sequential([\n",
        "    keras.layers.Flatten(),\n",
        "    keras.layers.Dense(128, activation=tf.nn.relu),\n",
        "    keras.layers.Dense(64, activation=tf.nn.relu),\n",
        "    keras.layers.Dense(10, activation=tf.nn.softmax)\n",
        "\n",
        "])\n",
        "\n",
        "model.compile(optimizer='adam', loss='sparse_categorical_crossentropy', metrics=['accuracy'])\n",
        "model.fit(train_images, train_labels, epochs=20)\n"
      ],
      "metadata": {
        "colab": {
          "base_uri": "https://localhost:8080/"
        },
        "id": "QQYAKhpMdhHQ",
        "outputId": "004c7429-eb82-48c2-ca5d-bdef532d0179"
      },
      "execution_count": null,
      "outputs": [
        {
          "output_type": "stream",
          "name": "stdout",
          "text": [
            "Epoch 1/20\n",
            "1875/1875 [==============================] - 12s 6ms/step - loss: 0.8585 - accuracy: 0.6939\n",
            "Epoch 2/20\n",
            "1875/1875 [==============================] - 6s 3ms/step - loss: 0.5632 - accuracy: 0.7954\n",
            "Epoch 3/20\n",
            "1875/1875 [==============================] - 8s 4ms/step - loss: 0.5078 - accuracy: 0.8182\n",
            "Epoch 4/20\n",
            "1875/1875 [==============================] - 6s 3ms/step - loss: 0.4687 - accuracy: 0.8318\n",
            "Epoch 5/20\n",
            "1875/1875 [==============================] - 8s 4ms/step - loss: 0.4411 - accuracy: 0.8414\n",
            "Epoch 6/20\n",
            "1875/1875 [==============================] - 7s 4ms/step - loss: 0.4215 - accuracy: 0.8483\n",
            "Epoch 7/20\n",
            "1875/1875 [==============================] - 8s 5ms/step - loss: 0.4057 - accuracy: 0.8543\n",
            "Epoch 8/20\n",
            "1875/1875 [==============================] - 8s 4ms/step - loss: 0.3932 - accuracy: 0.8583\n",
            "Epoch 9/20\n",
            "1875/1875 [==============================] - 6s 3ms/step - loss: 0.3832 - accuracy: 0.8625\n",
            "Epoch 10/20\n",
            "1875/1875 [==============================] - 8s 4ms/step - loss: 0.3737 - accuracy: 0.8650\n",
            "Epoch 11/20\n",
            "1875/1875 [==============================] - 6s 3ms/step - loss: 0.3648 - accuracy: 0.8673\n",
            "Epoch 12/20\n",
            "1875/1875 [==============================] - 8s 4ms/step - loss: 0.3575 - accuracy: 0.8712\n",
            "Epoch 13/20\n",
            "1875/1875 [==============================] - 6s 3ms/step - loss: 0.3503 - accuracy: 0.8727\n",
            "Epoch 14/20\n",
            "1875/1875 [==============================] - 8s 4ms/step - loss: 0.3421 - accuracy: 0.8757\n",
            "Epoch 15/20\n",
            "1875/1875 [==============================] - 9s 5ms/step - loss: 0.3364 - accuracy: 0.8776\n",
            "Epoch 16/20\n",
            "1875/1875 [==============================] - 9s 5ms/step - loss: 0.3293 - accuracy: 0.8796\n",
            "Epoch 17/20\n",
            "1875/1875 [==============================] - 8s 4ms/step - loss: 0.3239 - accuracy: 0.8831\n",
            "Epoch 18/20\n",
            "1875/1875 [==============================] - 6s 3ms/step - loss: 0.3194 - accuracy: 0.8845\n",
            "Epoch 19/20\n",
            "1875/1875 [==============================] - 8s 4ms/step - loss: 0.3139 - accuracy: 0.8856\n",
            "Epoch 20/20\n",
            "1875/1875 [==============================] - 9s 5ms/step - loss: 0.3095 - accuracy: 0.8876\n"
          ]
        },
        {
          "output_type": "execute_result",
          "data": {
            "text/plain": [
              "<keras.src.callbacks.History at 0x78d1906ff2e0>"
            ]
          },
          "metadata": {},
          "execution_count": 10
        }
      ]
    },
    {
      "cell_type": "code",
      "source": [
        "model.evaluate(test_images, test_labels)\n",
        "prediction = model.predict(test_images)"
      ],
      "metadata": {
        "colab": {
          "base_uri": "https://localhost:8080/"
        },
        "id": "JDGOHlQqeFPE",
        "outputId": "7ddd57b5-c9cc-4558-c378-bfcd19a16d46"
      },
      "execution_count": null,
      "outputs": [
        {
          "output_type": "stream",
          "name": "stdout",
          "text": [
            "313/313 [==============================] - 1s 2ms/step - loss: 51.2021 - accuracy: 0.7893\n",
            "313/313 [==============================] - 1s 2ms/step\n"
          ]
        }
      ]
    },
    {
      "cell_type": "code",
      "source": [
        "print(prediction[0])\n",
        "print(test_labels[0])\n",
        "\n",
        "pyplot.imshow(test_images[0])"
      ],
      "metadata": {
        "colab": {
          "base_uri": "https://localhost:8080/",
          "height": 499
        },
        "id": "Y9Sz9dMzeFLe",
        "outputId": "b162226a-d669-4392-fc74-2252da2c8a23"
      },
      "execution_count": null,
      "outputs": [
        {
          "output_type": "stream",
          "name": "stdout",
          "text": [
            "[0.         0.         0.         0.         0.         0.\n",
            " 0.         0.         0.         0.99999994]\n",
            "9\n"
          ]
        },
        {
          "output_type": "execute_result",
          "data": {
            "text/plain": [
              "<matplotlib.image.AxesImage at 0x78d18a83ff10>"
            ]
          },
          "metadata": {},
          "execution_count": 12
        },
        {
          "output_type": "display_data",
          "data": {
            "text/plain": [
              "<Figure size 640x480 with 1 Axes>"
            ],
            "image/png": "[encoded data removed]"
          },
          "metadata": {}
        }
      ]
    },
    {
      "cell_type": "code",
      "source": [
        "from tensorflow import keras\n",
        "(train_images, train_labels), (test_images, test_labels) = mnist.load_data()\n",
        "\n",
        "train_images = train_images/255.0\n",
        "test_images = test_images/255.0\n",
        "\n",
        "model = keras.Sequential([\n",
        "    keras.layers.Flatten(),\n",
        "    keras.layers.Dense(128, activation=tf.nn.relu),\n",
        "    keras.layers.Dense(64, activation=tf.nn.relu),\n",
        "    keras.layers.Dense(10, activation=tf.nn.softmax)\n",
        "\n",
        "])\n",
        "\n",
        "model2 = keras.Sequential([\n",
        "    keras.layers.Flatten(),\n",
        "    keras.layers.Dense(128, activation=tf.nn.softmax),\n",
        "    keras.layers.Dense(64, activation=tf.nn.softmax),\n",
        "    keras.layers.Dense(10, activation=tf.nn.softmax)\n",
        "])\n",
        "\n",
        "model.compile(optimizer='adam', loss='sparse_categorical_crossentropy', metrics=['accuracy'])\n",
        "history = model.fit(train_images, train_labels, epochs=20)\n",
        "\n",
        "model.evaluate(test_images, test_labels)\n",
        "prediction = model.predict(test_images)\n",
        "\n",
        "print(np.round_(prediction[0]))\n",
        "print(test_labels[0])\n",
        "\n",
        "\n",
        "model2.compile(optimizer='adam', loss='sparse_categorical_crossentropy', metrics=['accuracy'])\n",
        "history2 = model2.fit(train_images, train_labels, epochs=20)\n",
        "\n",
        "model2.evaluate(test_images, test_labels)\n",
        "prediction2 = model2.predict(test_images)\n",
        "\n",
        "print(np.round_(prediction2[0]))\n",
        "print(test_labels[0])"
      ],
      "metadata": {
        "colab": {
          "base_uri": "https://localhost:8080/"
        },
        "id": "0BJCy2ALeFJA",
        "outputId": "2b81977e-1bc2-4b03-8f83-7d38d6b6d085"
      },
      "execution_count": null,
      "outputs": [
        {
          "output_type": "stream",
          "name": "stdout",
          "text": [
            "Epoch 1/20\n",
            "1875/1875 [==============================] - 8s 4ms/step - loss: 0.2361 - accuracy: 0.9310\n",
            "Epoch 2/20\n",
            "1875/1875 [==============================] - 6s 3ms/step - loss: 0.1008 - accuracy: 0.9689\n",
            "Epoch 3/20\n",
            "1875/1875 [==============================] - 12s 7ms/step - loss: 0.0710 - accuracy: 0.9777\n",
            "Epoch 4/20\n",
            "1875/1875 [==============================] - 8s 4ms/step - loss: 0.0530 - accuracy: 0.9826\n",
            "Epoch 5/20\n",
            "1875/1875 [==============================] - 7s 3ms/step - loss: 0.0421 - accuracy: 0.9863\n",
            "Epoch 6/20\n",
            "1875/1875 [==============================] - 8s 4ms/step - loss: 0.0338 - accuracy: 0.9890\n",
            "Epoch 7/20\n",
            "1875/1875 [==============================] - 6s 3ms/step - loss: 0.0291 - accuracy: 0.9906\n",
            "Epoch 8/20\n",
            "1875/1875 [==============================] - 8s 4ms/step - loss: 0.0215 - accuracy: 0.9929\n",
            "Epoch 9/20\n",
            "1875/1875 [==============================] - 6s 3ms/step - loss: 0.0220 - accuracy: 0.9927\n",
            "Epoch 10/20\n",
            "1875/1875 [==============================] - 8s 4ms/step - loss: 0.0195 - accuracy: 0.9933\n",
            "Epoch 11/20\n",
            "1875/1875 [==============================] - 6s 3ms/step - loss: 0.0158 - accuracy: 0.9946\n",
            "Epoch 12/20\n",
            "1875/1875 [==============================] - 9s 5ms/step - loss: 0.0155 - accuracy: 0.9947\n",
            "Epoch 13/20\n",
            "1875/1875 [==============================] - 7s 4ms/step - loss: 0.0131 - accuracy: 0.9955\n",
            "Epoch 14/20\n",
            "1875/1875 [==============================] - 7s 4ms/step - loss: 0.0153 - accuracy: 0.9949\n",
            "Epoch 15/20\n",
            "1875/1875 [==============================] - 8s 4ms/step - loss: 0.0100 - accuracy: 0.9966\n",
            "Epoch 16/20\n",
            "1875/1875 [==============================] - 6s 3ms/step - loss: 0.0109 - accuracy: 0.9963\n",
            "Epoch 17/20\n",
            "1875/1875 [==============================] - 9s 5ms/step - loss: 0.0124 - accuracy: 0.9958\n",
            "Epoch 18/20\n",
            "1875/1875 [==============================] - 7s 3ms/step - loss: 0.0098 - accuracy: 0.9968\n",
            "Epoch 19/20\n",
            "1875/1875 [==============================] - 10s 5ms/step - loss: 0.0095 - accuracy: 0.9970\n",
            "Epoch 20/20\n",
            "1875/1875 [==============================] - 7s 4ms/step - loss: 0.0088 - accuracy: 0.9972\n",
            "313/313 [==============================] - 1s 3ms/step - loss: 0.1212 - accuracy: 0.9799\n",
            "313/313 [==============================] - 1s 3ms/step\n",
            "[0. 0. 0. 0. 0. 0. 0. 1. 0. 0.]\n",
            "7\n",
            "Epoch 1/20\n",
            "1875/1875 [==============================] - 7s 3ms/step - loss: 1.6273 - accuracy: 0.7024\n",
            "Epoch 2/20\n",
            "1875/1875 [==============================] - 8s 4ms/step - loss: 0.6180 - accuracy: 0.8424\n",
            "Epoch 3/20\n",
            "1875/1875 [==============================] - 7s 3ms/step - loss: 0.4441 - accuracy: 0.8686\n",
            "Epoch 4/20\n",
            "1875/1875 [==============================] - 8s 4ms/step - loss: 0.3907 - accuracy: 0.8901\n",
            "Epoch 5/20\n",
            "1875/1875 [==============================] - 7s 4ms/step - loss: 0.3340 - accuracy: 0.9143\n",
            "Epoch 6/20\n",
            "1875/1875 [==============================] - 8s 4ms/step - loss: 0.2952 - accuracy: 0.9236\n",
            "Epoch 7/20\n",
            "1875/1875 [==============================] - 8s 4ms/step - loss: 0.2697 - accuracy: 0.9294\n",
            "Epoch 8/20\n",
            "1875/1875 [==============================] - 7s 4ms/step - loss: 0.2496 - accuracy: 0.9352\n",
            "Epoch 9/20\n",
            "1875/1875 [==============================] - 8s 4ms/step - loss: 0.2339 - accuracy: 0.9393\n",
            "Epoch 10/20\n",
            "1875/1875 [==============================] - 7s 3ms/step - loss: 0.2202 - accuracy: 0.9423\n",
            "Epoch 11/20\n",
            "1875/1875 [==============================] - 8s 4ms/step - loss: 0.2083 - accuracy: 0.9454\n",
            "Epoch 12/20\n",
            "1875/1875 [==============================] - 6s 3ms/step - loss: 0.1996 - accuracy: 0.9474\n",
            "Epoch 13/20\n",
            "1875/1875 [==============================] - 8s 4ms/step - loss: 0.1908 - accuracy: 0.9490\n",
            "Epoch 14/20\n",
            "1875/1875 [==============================] - 6s 3ms/step - loss: 0.1835 - accuracy: 0.9509\n",
            "Epoch 15/20\n",
            "1875/1875 [==============================] - 8s 4ms/step - loss: 0.1776 - accuracy: 0.9524\n",
            "Epoch 16/20\n",
            "1875/1875 [==============================] - 7s 4ms/step - loss: 0.1703 - accuracy: 0.9548\n",
            "Epoch 17/20\n",
            "1875/1875 [==============================] - 7s 4ms/step - loss: 0.1653 - accuracy: 0.9564\n",
            "Epoch 18/20\n",
            "1875/1875 [==============================] - 8s 4ms/step - loss: 0.1594 - accuracy: 0.9571\n",
            "Epoch 19/20\n",
            "1875/1875 [==============================] - 7s 3ms/step - loss: 0.1547 - accuracy: 0.9593\n",
            "Epoch 20/20\n",
            "1875/1875 [==============================] - 9s 5ms/step - loss: 0.1506 - accuracy: 0.9593\n",
            "313/313 [==============================] - 1s 3ms/step - loss: 0.2135 - accuracy: 0.9441\n",
            "313/313 [==============================] - 1s 2ms/step\n",
            "[0. 0. 0. 0. 0. 0. 0. 1. 0. 0.]\n",
            "7\n"
          ]
        }
      ]
    },
    {
      "cell_type": "code",
      "source": [
        "pyplot.plot(history.history['accuracy'], label='accuracy', c='black')\n",
        "pyplot.plot(history.history['loss'], label='loss', c='black--')\n",
        "\n",
        "pyplot.plot(history2.history['accuracy'], label='accuracy 2', c='blue')\n",
        "pyplot.plot(history2.history['loss'], label='loss 2', c='blue--')\n",
        "\n",
        "pyplot.grid(0.8)\n",
        "\n",
        "pyplot.xlabel('Epoches')\n",
        "pyplot.legend()\n",
        "pyplot.show()"
      ],
      "metadata": {
        "colab": {
          "base_uri": "https://localhost:8080/",
          "height": 449
        },
        "id": "XFTRGEZheFDE",
        "outputId": "4eb6906d-6ae6-4702-c1b2-0245383f2aa9"
      },
      "execution_count": null,
      "outputs": [
        {
          "output_type": "display_data",
          "data": {
            "text/plain": [
              "<Figure size 640x480 with 1 Axes>"
            ],
            "image/png": "[encoded data removed]"
          },
          "metadata": {}
        }
      ]
    },
    {
      "cell_type": "code",
      "source": [],
      "metadata": {
        "id": "mLyrF2G0eFAw"
      },
      "execution_count": null,
      "outputs": []
    },
    {
      "cell_type": "code",
      "source": [],
      "metadata": {
        "id": "rI2vVSxseE-g"
      },
      "execution_count": null,
      "outputs": []
    },
    {
      "cell_type": "code",
      "source": [],
      "metadata": {
        "id": "M5zVgm0AeE8U"
      },
      "execution_count": null,
      "outputs": []
    },
    {
      "cell_type": "code",
      "source": [],
      "metadata": {
        "id": "Rj3PDW7LeE3Q"
      },
      "execution_count": null,
      "outputs": []
    },
    {
      "cell_type": "code",
      "source": [],
      "metadata": {
        "id": "NmZ7BB3HeEnO"
      },
      "execution_count": null,
      "outputs": []
    },
    {
      "cell_type": "code",
      "source": [
        "\n",
        "\n",
        "\n"
      ],
      "metadata": {
        "colab": {
          "base_uri": "https://localhost:8080/"
        },
        "id": "hlKcnEIK4Arg",
        "outputId": "73fa2468-cce3-4d58-8425-1397e9435360"
      },
      "execution_count": null,
      "outputs": [
        {
          "output_type": "stream",
          "name": "stdout",
          "text": [
            "\n",
            "I:0 Test-Err:0.718 Test-Acc:0.5418 Train-Err:0.885 Train-Acc:0.289\n",
            "I:10 Test-Err:0.501 Test-Acc:0.7365 Train-Err:0.564 Train-Acc:0.647\n",
            "I:20 Test-Err:0.478 Test-Acc:0.7621 Train-Err:0.530 Train-Acc:0.681\n",
            "I:30 Test-Err:0.457 Test-Acc:0.7915 Train-Err:0.508 Train-Acc:0.71\n",
            "I:40 Test-Err:0.445 Test-Acc:0.7998 Train-Err:0.492 Train-Acc:0.719\n",
            "I:50 Test-Err:0.430 Test-Acc:0.8145 Train-Err:0.462 Train-Acc:0.742\n",
            "I:60 Test-Err:0.446 Test-Acc:0.7974 Train-Err:0.472 Train-Acc:0.746\n",
            "I:70 Test-Err:0.445 Test-Acc:0.7901 Train-Err:0.463 Train-Acc:0.744\n",
            "I:80 Test-Err:0.426 Test-Acc:0.8105 Train-Err:0.461 Train-Acc:0.764\n",
            "I:90 Test-Err:0.435 Test-Acc:0.7871 Train-Err:0.462 Train-Acc:0.749\n",
            "I:100 Test-Err:0.433 Test-Acc:0.8039 Train-Err:0.452 Train-Acc:0.769\n",
            "I:110 Test-Err:0.435 Test-Acc:0.8099 Train-Err:0.439 Train-Acc:0.778\n",
            "I:120 Test-Err:0.442 Test-Acc:0.7871 Train-Err:0.451 Train-Acc:0.778\n",
            "I:130 Test-Err:0.439 Test-Acc:0.811 Train-Err:0.452 Train-Acc:0.783\n",
            "I:140 Test-Err:0.443 Test-Acc:0.8049 Train-Err:0.445 Train-Acc:0.779\n",
            "I:150 Test-Err:0.446 Test-Acc:0.7918 Train-Err:0.457 Train-Acc:0.783\n",
            "I:160 Test-Err:0.437 Test-Acc:0.81 Train-Err:0.456 Train-Acc:0.774\n",
            "I:170 Test-Err:0.430 Test-Acc:0.7963 Train-Err:0.439 Train-Acc:0.801\n",
            "I:180 Test-Err:0.432 Test-Acc:0.7955 Train-Err:0.453 Train-Acc:0.782\n",
            "I:190 Test-Err:0.436 Test-Acc:0.7997 Train-Err:0.433 Train-Acc:0.784\n",
            "I:200 Test-Err:0.436 Test-Acc:0.803 Train-Err:0.442 Train-Acc:0.796\n",
            "I:210 Test-Err:0.434 Test-Acc:0.8031 Train-Err:0.441 Train-Acc:0.79\n",
            "I:220 Test-Err:0.426 Test-Acc:0.8102 Train-Err:0.434 Train-Acc:0.777\n",
            "I:230 Test-Err:0.429 Test-Acc:0.8058 Train-Err:0.431 Train-Acc:0.803\n",
            "I:240 Test-Err:0.436 Test-Acc:0.8055 Train-Err:0.430 Train-Acc:0.788\n",
            "I:250 Test-Err:0.421 Test-Acc:0.8053 Train-Err:0.433 Train-Acc:0.789\n",
            "I:260 Test-Err:0.422 Test-Acc:0.8102 Train-Err:0.422 Train-Acc:0.79\n",
            "I:270 Test-Err:0.438 Test-Acc:0.8062 Train-Err:0.430 Train-Acc:0.803\n",
            "I:280 Test-Err:0.431 Test-Acc:0.7991 Train-Err:0.425 Train-Acc:0.79\n",
            "I:290 Test-Err:0.433 Test-Acc:0.8028 Train-Err:0.428 Train-Acc:0.792"
          ]
        }
      ]
    },
    {
      "cell_type": "code",
      "source": [],
      "metadata": {
        "id": "wFcNFk3I3EWO"
      },
      "execution_count": null,
      "outputs": []
    }
  ]
}