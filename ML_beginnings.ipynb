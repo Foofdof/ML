{
  "nbformat": 4,
  "nbformat_minor": 0,
  "metadata": {
    "colab": {
      "provenance": []
    },
    "kernelspec": {
      "name": "python3",
      "display_name": "Python 3"
    },
    "language_info": {
      "name": "python"
    }
  },
  "cells": [
    {
      "cell_type": "code",
      "execution_count": null,
      "metadata": {
        "colab": {
          "base_uri": "https://localhost:8080/",
          "height": 172
        },
        "id": "6Qe8_9yfunk9",
        "outputId": "6762eafc-91eb-4ec3-b045-a13cbb727452"
      },
      "outputs": [
        {
          "output_type": "display_data",
          "data": {
            "text/plain": [
              "<Figure size 640x480 with 1 Axes>"
            ],
            "image/png": "[encoded data removed]"
          },
          "metadata": {}
        }
      ],
      "source": [
        "import numpy as np, sys\n",
        "from keras.datasets import mnist\n",
        "from matplotlib import pyplot\n",
        "\n",
        "np.random.seed(1)\n",
        "(x_train, y_train), (x_test, y_test) = mnist.load_data()\n",
        "\n",
        "pyplot.subplot(330+1)\n",
        "pyplot.imshow(x_train[1], cmap=pyplot.get_cmap('gray'))\n",
        "pyplot.show()\n",
        "\n",
        "images, labels = (x_train[0:1000].reshape(1000, 28*28)/255, y_train[0:1000])\n",
        "one_hot_labels = np.zeros((len(labels),10))\n",
        "\n",
        "for i,l in enumerate(labels):\n",
        "  one_hot_labels[i,l] = 1\n",
        "labels = one_hot_labels\n",
        "\n",
        "test_img = x_test.reshape(len(x_test), 28*28) / 255\n",
        "test_labels = np.zeros((len(y_test), 10))\n",
        "for i,l in enumerate(y_test):\n",
        "  test_labels[i,l] = 1\n",
        "\n",
        "\n",
        "alpha, itr, hid_size = (0.005, 300, 40)\n",
        "px_per_img, n_lab = (784, 10)\n",
        "\n",
        "weights_01 = 0.2*np.random.random((px_per_img, hid_size)) - 0.1\n",
        "weights_12 = 0.2*np.random.random((hid_size, n_lab)) - 0.1\n",
        "\n",
        "def relu(x):\n",
        "  return (x >= 0)*x\n",
        "\n",
        "def relu2deriv(output):\n",
        "  return output >= 0"
      ]
    },
    {
      "cell_type": "code",
      "source": [],
      "metadata": {
        "id": "_SseuO8BFqim"
      },
      "execution_count": null,
      "outputs": []
    },
    {
      "cell_type": "code",
      "source": [
        "for j in range(itr):\n",
        "  error, correct_cnt = (0.0, 0)\n",
        "\n",
        "  for i in range(len(images)):\n",
        "    layer_0 = images[i:i+1]\n",
        "    layer_1 = relu(np.dot(layer_0, weights_01))\n",
        "    dropout_mask = np.random.randint(2, size=layer_1.shape)\n",
        "    layer_1 *= dropout_mask * 2\n",
        "    layer_2 = np.dot(layer_1, weights_12)\n",
        "\n",
        "    error += np.sum((labels[i:i+1] - layer_2)**2)\n",
        "    correct_cnt +=  int(np.argmax(layer_2) == np.argmax(labels[i:i+1]))\n",
        "\n",
        "    layer_2_delta = (labels[i:i+1] - layer_2)\n",
        "    layer_1_delta = layer_2_delta.dot(weights_12.T) * relu2deriv(layer_1)\n",
        "    layer_1_delta *= dropout_mask\n",
        "    weights_12 += alpha*layer_1.T.dot(layer_2_delta)\n",
        "    weights_01 += alpha*layer_0.T.dot(layer_1_delta)\n",
        "\n",
        "  if(j%10 == 0):\n",
        "    test_error = 0.0\n",
        "    test_correct_cnt = 0\n",
        "\n",
        "    for i in range(len(test_img)):\n",
        "      layer_0 = test_img[i:i+1]\n",
        "      layer_1 = relu(np.dot(layer_0, weights_01))\n",
        "      layer_2 = np.dot(layer_1, weights_12)\n",
        "\n",
        "      test_error += np.sum((test_labels[i:i+1] - layer_2)**2)\n",
        "      test_correct_cnt +=  int(np.argmax(layer_2) == np.argmax(test_labels[i:i+1]))\n",
        "\n",
        "    sys.stdout.write(\"\\n\" + \\\n",
        "    \"I:\" + str(j) + \\\n",
        "    \" Test-Err:\" + str(test_error/ float(len(test_img)))[0:5] +\\\n",
        "    \" Test-Acc:\" + str(test_correct_cnt/ float(len(test_img)))+\\\n",
        "    \" Train-Err:\" + str(error/ float(len(images)))[0:5] +\\\n",
        "    \" Train-Acc:\" + str(correct_cnt/ float(len(images))))\n",
        "\n",
        "\n"
      ],
      "metadata": {
        "colab": {
          "base_uri": "https://localhost:8080/"
        },
        "id": "hlKcnEIK4Arg",
        "outputId": "73fa2468-cce3-4d58-8425-1397e9435360"
      },
      "execution_count": null,
      "outputs": [
        {
          "output_type": "stream",
          "name": "stdout",
          "text": [
            "\n",
            "I:0 Test-Err:0.718 Test-Acc:0.5418 Train-Err:0.885 Train-Acc:0.289\n",
            "I:10 Test-Err:0.501 Test-Acc:0.7365 Train-Err:0.564 Train-Acc:0.647\n",
            "I:20 Test-Err:0.478 Test-Acc:0.7621 Train-Err:0.530 Train-Acc:0.681\n",
            "I:30 Test-Err:0.457 Test-Acc:0.7915 Train-Err:0.508 Train-Acc:0.71\n",
            "I:40 Test-Err:0.445 Test-Acc:0.7998 Train-Err:0.492 Train-Acc:0.719\n",
            "I:50 Test-Err:0.430 Test-Acc:0.8145 Train-Err:0.462 Train-Acc:0.742\n",
            "I:60 Test-Err:0.446 Test-Acc:0.7974 Train-Err:0.472 Train-Acc:0.746\n",
            "I:70 Test-Err:0.445 Test-Acc:0.7901 Train-Err:0.463 Train-Acc:0.744\n",
            "I:80 Test-Err:0.426 Test-Acc:0.8105 Train-Err:0.461 Train-Acc:0.764\n",
            "I:90 Test-Err:0.435 Test-Acc:0.7871 Train-Err:0.462 Train-Acc:0.749\n",
            "I:100 Test-Err:0.433 Test-Acc:0.8039 Train-Err:0.452 Train-Acc:0.769\n",
            "I:110 Test-Err:0.435 Test-Acc:0.8099 Train-Err:0.439 Train-Acc:0.778\n",
            "I:120 Test-Err:0.442 Test-Acc:0.7871 Train-Err:0.451 Train-Acc:0.778\n",
            "I:130 Test-Err:0.439 Test-Acc:0.811 Train-Err:0.452 Train-Acc:0.783\n",
            "I:140 Test-Err:0.443 Test-Acc:0.8049 Train-Err:0.445 Train-Acc:0.779\n",
            "I:150 Test-Err:0.446 Test-Acc:0.7918 Train-Err:0.457 Train-Acc:0.783\n",
            "I:160 Test-Err:0.437 Test-Acc:0.81 Train-Err:0.456 Train-Acc:0.774\n",
            "I:170 Test-Err:0.430 Test-Acc:0.7963 Train-Err:0.439 Train-Acc:0.801\n",
            "I:180 Test-Err:0.432 Test-Acc:0.7955 Train-Err:0.453 Train-Acc:0.782\n",
            "I:190 Test-Err:0.436 Test-Acc:0.7997 Train-Err:0.433 Train-Acc:0.784\n",
            "I:200 Test-Err:0.436 Test-Acc:0.803 Train-Err:0.442 Train-Acc:0.796\n",
            "I:210 Test-Err:0.434 Test-Acc:0.8031 Train-Err:0.441 Train-Acc:0.79\n",
            "I:220 Test-Err:0.426 Test-Acc:0.8102 Train-Err:0.434 Train-Acc:0.777\n",
            "I:230 Test-Err:0.429 Test-Acc:0.8058 Train-Err:0.431 Train-Acc:0.803\n",
            "I:240 Test-Err:0.436 Test-Acc:0.8055 Train-Err:0.430 Train-Acc:0.788\n",
            "I:250 Test-Err:0.421 Test-Acc:0.8053 Train-Err:0.433 Train-Acc:0.789\n",
            "I:260 Test-Err:0.422 Test-Acc:0.8102 Train-Err:0.422 Train-Acc:0.79\n",
            "I:270 Test-Err:0.438 Test-Acc:0.8062 Train-Err:0.430 Train-Acc:0.803\n",
            "I:280 Test-Err:0.431 Test-Acc:0.7991 Train-Err:0.425 Train-Acc:0.79\n",
            "I:290 Test-Err:0.433 Test-Acc:0.8028 Train-Err:0.428 Train-Acc:0.792"
          ]
        }
      ]
    },
    {
      "cell_type": "code",
      "source": [],
      "metadata": {
        "id": "wFcNFk3I3EWO"
      },
      "execution_count": null,
      "outputs": []
    }
  ]
}